{
  "nbformat": 4,
  "nbformat_minor": 0,
  "metadata": {
    "colab": {
      "provenance": [],
      "private_outputs": true,
      "toc_visible": true
    },
    "kernelspec": {
      "name": "python3",
      "display_name": "Python 3"
    }
  },
  "cells": [
    {
      "cell_type": "markdown",
      "metadata": {
        "id": "-E51Xu20x754"
      },
      "source": [
        "####This notebook covers some basics of working with audio files in Python:\n",
        "\n",
        "* Loading and playing audio files\n",
        "* Plotting audio in time and frequency domain\n",
        "* Resamping audio (changing sampling rate)\n",
        "* Audio steganography example"
      ]
    },
    {
      "cell_type": "markdown",
      "metadata": {
        "id": "735AFA8iob9k"
      },
      "source": [
        "####Downloading example audio files & installing required libraries"
      ]
    },
    {
      "cell_type": "code",
      "metadata": {
        "id": "3rfaufshbMq4"
      },
      "source": [
        "!wget -nc http://cs.uef.fi/~vvestman/sounds/Im_Superman.wav\n",
        "!wget -nc http://cs.uef.fi/~vvestman/sounds/Count_Of_Three-8khz.wav\n",
        "  \n",
        "# Backup links:\n",
        "#!wget -nc https://vvestman.github.io/summerschool19/sounds/Im_Superman.wav  \n",
        "#!wget -nc https://vvestman.github.io/summerschool19/sounds/Count_Of_Three-8khz.wav\n",
        "  \n",
        "!pip install pysoundfile\n",
        "!pip install bitstring"
      ],
      "execution_count": null,
      "outputs": []
    },
    {
      "cell_type": "markdown",
      "metadata": {
        "id": "tvj_Gf45GZiA"
      },
      "source": [
        "#### Playing audio in notebooks"
      ]
    },
    {
      "cell_type": "code",
      "metadata": {
        "id": "0Dnys1CAm5ti"
      },
      "source": [
        "import IPython\n",
        "IPython.display.Audio('Im_Superman.wav')\n"
      ],
      "execution_count": null,
      "outputs": []
    },
    {
      "cell_type": "markdown",
      "metadata": {
        "id": "DSOfggSKFoLm"
      },
      "source": [
        "#### Loading audio using PySoundFile (http://pysoundfile.readthedocs.org/)\n",
        "\n",
        "*   Plotting the audio signal\n",
        "\n"
      ]
    },
    {
      "cell_type": "code",
      "metadata": {
        "id": "Tl92AuZoYWCD"
      },
      "source": [
        "import soundfile\n",
        "import matplotlib.pyplot as plt\n",
        "audio_signal, sampling_rate = soundfile.read('Im_Superman.wav')\n",
        "print('Sampling rate: {} samples/second'.format(sampling_rate))\n",
        "print('Signal size: {} samples'.format(audio_signal.shape[0]))\n",
        "print('Signal duration: {:.3f} seconds'.format(audio_signal.shape[0] / sampling_rate))\n",
        "plt.plot(audio_signal)\n",
        "plt.tight_layout()\n",
        "plt.figure()\n",
        "plt.plot(audio_signal[2000:2100], marker='x')\n",
        "plt.title('Zoomed in view to samples 2000-2100')\n",
        "plt.tight_layout()"
      ],
      "execution_count": null,
      "outputs": []
    },
    {
      "cell_type": "markdown",
      "metadata": {
        "id": "QFokkQWPKhmv"
      },
      "source": [
        "#### Using short time Fourier transform to obtain magnitude spectrogram of speech\n"
      ]
    },
    {
      "cell_type": "markdown",
      "metadata": {
        "id": "apIMwGCDlvEr"
      },
      "source": [
        "\n",
        "Short time Fourier transform (STFT) splits signal into small frames ($25$ms), so that consecutive frames are overlapping (below the overlap is $25-10=15$ms). Then, Fourier transform is applied to all frames individually.\n",
        "Fourier transform gives complex valued outputs. In spectrogram representation of speech only the magnitudes of the complex values are used. Magnitudes can be obtained using NumPy's  (https://www.numpy.org/) ```abs()``` function.\n",
        "\n",
        "We use Librosa's (https://librosa.github.io/librosa/index.html) STFT implementation."
      ]
    },
    {
      "cell_type": "code",
      "metadata": {
        "id": "0WNfJGKaZmqG"
      },
      "source": [
        "import numpy as np\n",
        "import librosa\n",
        "from librosa.display import specshow\n",
        "\n",
        "window_length = int(0.025 * sampling_rate)\n",
        "hop_length = int(0.01 * sampling_rate)\n",
        "\n",
        "spectrogram = np.abs(librosa.stft(audio_signal, hop_length=hop_length, win_length=window_length))\n",
        "\n",
        "# Plotting the spectrogram:\n",
        "specshow(librosa.amplitude_to_db(spectrogram, ref=np.max), sr=sampling_rate, hop_length=hop_length, y_axis='linear', x_axis='time')\n",
        "plt.title('Spectrogram')\n",
        "plt.colorbar(format='%+2.0f dB')\n",
        "plt.tight_layout()"
      ],
      "execution_count": null,
      "outputs": []
    },
    {
      "cell_type": "markdown",
      "metadata": {
        "id": "fM7QGTZ9tJ2P"
      },
      "source": [
        "In the above code, ```spectrogram``` is a 2D numpy array. The size of the array is printed below:"
      ]
    },
    {
      "cell_type": "code",
      "metadata": {
        "id": "2KlzrHhZOYj-"
      },
      "source": [
        "print(spectrogram.shape)"
      ],
      "execution_count": null,
      "outputs": []
    },
    {
      "cell_type": "markdown",
      "metadata": {
        "id": "K2L7uGVCOmmi"
      },
      "source": [
        "By default, we use 2048 frequency bins in Fourier transform. Because of the symmetry properties of Fourier transform, only the first 1025 values of 2048 values are retained. (See also https://en.wikipedia.org/wiki/Nyquist%E2%80%93Shannon_sampling_theorem)\n",
        "\n",
        "\n",
        "The size of the second dimension is the number of frames.\n"
      ]
    },
    {
      "cell_type": "markdown",
      "metadata": {
        "id": "nt4KPf4BizSQ"
      },
      "source": [
        "#### Resampling audio\n",
        "The loaded audio file is sampled at 44.1 kHz. Let's resample the audio to 8 kHz:"
      ]
    },
    {
      "cell_type": "code",
      "metadata": {
        "id": "_DjOukbitJ2J"
      },
      "source": [
        "audio_signal = librosa.resample(audio_signal, sampling_rate, 8000)\n",
        "sampling_rate = 8000\n",
        "\n",
        "window_length = int(0.025 * sampling_rate)\n",
        "hop_length = int(0.01 * sampling_rate)\n",
        "\n",
        "spectrogram = np.abs(librosa.stft(audio_signal, hop_length=hop_length, win_length=window_length))\n",
        "librosa.display.specshow(librosa.amplitude_to_db(spectrogram, ref=np.max), sr=sampling_rate, hop_length=hop_length, y_axis='linear', x_axis='time')\n",
        "plt.title('Spectrogram')\n",
        "plt.colorbar(format='%+2.0f dB')\n",
        "plt.tight_layout()"
      ],
      "execution_count": null,
      "outputs": []
    },
    {
      "cell_type": "markdown",
      "metadata": {
        "id": "KIW7drwBvVD2"
      },
      "source": [
        "#### Audio steganography with the least significant bit (LSB) coding\n",
        "The idea is to embed hidden data (secret message) into a speech file (carrier). After embedding the secret message, the altered speech file should sound like the original carrier file.\n",
        "\n",
        "Let ```\"Im_Superman.wav\"``` be the carrier and let ```\"Count_Of_Three-8khz.wav\"``` be the secret message (secret message could be some other kind of data as well, such as text)."
      ]
    },
    {
      "cell_type": "code",
      "metadata": {
        "id": "jkyWy6-cxhi6"
      },
      "source": [
        "carrier, carrier_sr = soundfile.read('Im_Superman.wav', dtype=np.int16)\n",
        "message, message_sr = soundfile.read('Count_Of_Three-8khz.wav', dtype=np.int16)\n",
        "\n",
        "message = np.hstack((message, message, message, message, message))\n",
        "\n",
        "IPython.display.Audio('Count_Of_Three-8khz.wav')"
      ],
      "execution_count": null,
      "outputs": []
    },
    {
      "cell_type": "markdown",
      "metadata": {
        "id": "kYcaROBI_U9S"
      },
      "source": [
        "A function that embeds data to the least significant bits of the carrier signal:"
      ]
    },
    {
      "cell_type": "code",
      "metadata": {
        "id": "HkP6-2HH-LJs"
      },
      "source": [
        "from bitstring import Bits\n",
        "\n",
        "def lsb_embed(carrier, data, n_bits=1):\n",
        "  # Assumes that both carrier and data have dtype of int16\n",
        "    \n",
        "  # Convert all integer values of secret message to binary strings:\n",
        "  secret_bits = []\n",
        "  for value in np.nditer(data):\n",
        "    secret_bits.append(np.binary_repr(value, 16))\n",
        "  \n",
        "  # Join all binary strings together\n",
        "  secret_bits = ''.join(secret_bits)\n",
        "  \n",
        "  # Ensure that the length of binary string is the same as the size of carrier\n",
        "  secret_bits = secret_bits.ljust(carrier.size * n_bits, '0')[:carrier.size * n_bits]\n",
        "    \n",
        "  # Modify the least significant bits of carrier to contain hidden data\n",
        "  audio_with_hidden_data = np.zeros(carrier.shape, dtype=carrier.dtype)\n",
        "  for i in range(len(carrier)):\n",
        "    # Convert ith value of carrier to binary string:\n",
        "    binary_string = np.binary_repr(carrier[i], 16)\n",
        "    # Set the last bit of the binary string to be a bit from the secret message:\n",
        "    altered_binary = binary_string[:-n_bits] + secret_bits[i*n_bits:i*n_bits+n_bits]\n",
        "    audio_with_hidden_data[i] = Bits(bin=altered_binary).int # Binary string to int\n",
        "      \n",
        "  return audio_with_hidden_data"
      ],
      "execution_count": null,
      "outputs": []
    },
    {
      "cell_type": "markdown",
      "metadata": {
        "id": "e1ncEp9ju6JN"
      },
      "source": [
        "Next, we hide a message using the above function; then save the stego audio (audio with a hidden signal) to file; and finally play the stego audio file:"
      ]
    },
    {
      "cell_type": "code",
      "metadata": {
        "id": "I6clQQe-e_jN"
      },
      "source": [
        "audio_with_hidden_data = lsb_embed(carrier, message, 10)\n",
        "soundfile.write('audio_with_hidden_message.wav', audio_with_hidden_data, carrier_sr)\n",
        "IPython.display.Audio('audio_with_hidden_message.wav')"
      ],
      "execution_count": null,
      "outputs": []
    },
    {
      "cell_type": "markdown",
      "metadata": {
        "id": "2P-Cp8BJ-4Qa"
      },
      "source": [
        "Does it sound different than the original file?"
      ]
    },
    {
      "cell_type": "code",
      "metadata": {
        "id": "bROkwqeTfdqz"
      },
      "source": [
        "IPython.display.Audio('Im_Superman.wav') # Original wav file"
      ],
      "execution_count": null,
      "outputs": []
    },
    {
      "cell_type": "markdown",
      "metadata": {
        "id": "Y1yhJZ7R_9X-"
      },
      "source": [
        "A function that retrieves the embedded hidden data:"
      ]
    },
    {
      "cell_type": "code",
      "metadata": {
        "id": "7xmaXMvAgC4b"
      },
      "source": [
        "def lsb_retrieve(signal, n_bits=1):\n",
        "  \n",
        "  # Collect the least significant bits of the 'stego' signal\n",
        "  secret_bits = []\n",
        "  for value in np.nditer(signal):\n",
        "    ls_bit = np.binary_repr(value, 16)[-n_bits:]\n",
        "    secret_bits.append(ls_bit)\n",
        "  \n",
        "  # Join bits together to form a binary string\n",
        "  secret_bits = ''.join(secret_bits)\n",
        "  \n",
        "  # Ensure that the length of binary string is divisable by 16\n",
        "  secret_bits = secret_bits[:-(len(secret_bits) % 16)]\n",
        "  \n",
        "  # Convert chunks of 16 consecutive bits to 16 bit integers to retreive the secret data\n",
        "  retrieved_audio = np.zeros(len(secret_bits) // 16, dtype=np.int16)\n",
        "  for i in range(retrieved_audio.size):\n",
        "    retrieved_audio[i] = Bits(bin=secret_bits[i*16:(i+1)*16]).int\n",
        "    \n",
        "  return retrieved_audio"
      ],
      "execution_count": null,
      "outputs": []
    },
    {
      "cell_type": "code",
      "metadata": {
        "id": "si1vx6lss6pW"
      },
      "source": [
        "retrieved_hidden_message = lsb_retrieve(audio_with_hidden_data, 10)\n",
        "soundfile.write('retrieved_hidden_message.wav', retrieved_hidden_message, message_sr)\n",
        "IPython.display.Audio('retrieved_hidden_message.wav')"
      ],
      "execution_count": null,
      "outputs": []
    },
    {
      "cell_type": "markdown",
      "metadata": {
        "id": "5JHTW1okFl8G"
      },
      "source": [
        "\n",
        "\n",
        "\n",
        "---\n",
        "--- \n",
        "#### Exercise: instead of using only the least significant bit to embed data, try using two, three, or more least significant bits. How many bits can you modify without being able to hear the difference?\n",
        "---\n",
        "---"
      ]
    }
  ]
}